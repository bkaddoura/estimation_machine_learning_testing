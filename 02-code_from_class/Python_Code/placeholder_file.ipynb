{
 "cells": [
  {
   "cell_type": "markdown",
   "id": "1a981332-9902-470a-9d8c-7c0594069709",
   "metadata": {},
   "source": [
    "### Placeholder file"
   ]
  },
  {
   "cell_type": "markdown",
   "id": "189a6b11",
   "metadata": {},
   "source": [
    "This needs to absorb all of the necessary translated R code ..."
   ]
  },
  {
   "cell_type": "code",
   "execution_count": null,
   "id": "c5c0e5fd-3e99-4712-95a5-cc426f974aa5",
   "metadata": {},
   "outputs": [],
   "source": []
  }
 ],
 "metadata": {
  "kernelspec": {
   "display_name": "Python 3 (ipykernel)",
   "language": "python",
   "name": "python3"
  },
  "language_info": {
   "codemirror_mode": {
    "name": "ipython",
    "version": 3
   },
   "file_extension": ".py",
   "mimetype": "text/x-python",
   "name": "python",
   "nbconvert_exporter": "python",
   "pygments_lexer": "ipython3",
   "version": "3.11.5"
  }
 },
 "nbformat": 4,
 "nbformat_minor": 5
}

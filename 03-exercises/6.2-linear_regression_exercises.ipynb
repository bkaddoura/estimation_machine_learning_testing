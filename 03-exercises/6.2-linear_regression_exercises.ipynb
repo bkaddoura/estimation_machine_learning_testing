{
 "cells": [
  {
   "cell_type": "markdown",
   "id": "dd7c50c1-ffb3-40f1-aed2-fb18b05aaa1c",
   "metadata": {},
   "source": [
    "# 6.2: Linear Regression Exercises"
   ]
  },
  {
   "cell_type": "markdown",
   "id": "63cf6041-c737-4f73-950a-4d43daa13adb",
   "metadata": {},
   "source": [
    "### Getting Started\n",
    "#### Import Libraries \n",
    "We import our standard libraries and specific objects/libraries at the top level of our notebook. By adding only specific objects from key modules, such as `statmodels`, we keep our *namespace* more organized. "
   ]
  },
  {
   "cell_type": "code",
   "execution_count": null,
   "id": "e4a6ede7-9f6e-4053-aa35-b7927ea3964f",
   "metadata": {},
   "outputs": [],
   "source": [
    "# Import libraries and objects\n",
    "import numpy as np\n",
    "import pandas as pd\n",
    "from matplotlib.pyplot import subplots\n",
    "import statsmodels.api as sm\n",
    "import matplotlib.pyplot as plt\n",
    "import warnings # for muting warning messages\n",
    "# mute warning messages\n",
    "warnings.filterwarnings('ignore')\n",
    "from sklearn.linear_model import LinearRegression\n",
    "from ISLP import load_data\n",
    "from ISLP.models import (ModelSpec as MS,\n",
    "                         summarize,\n",
    "                         poly)"
   ]
  },
  {
   "cell_type": "markdown",
   "id": "afdd9bd1-62b5-4b83-9e22-2ef1f9800083",
   "metadata": {},
   "source": [
    "Let's take a look at the `Boston` data set"
   ]
  },
  {
   "cell_type": "code",
   "execution_count": null,
   "id": "79406cd6-14de-4318-b711-cbe6e0c5c8bd",
   "metadata": {},
   "outputs": [],
   "source": [
    "# Load the \"Boston\" dataset using the \"load_data\" function from the ISLP package\n",
    "Boston = load_data('Boston')\n",
    "Boston"
   ]
  },
  {
   "cell_type": "markdown",
   "id": "6508f966-1f84-4d29-b91d-c3713a857bab",
   "metadata": {},
   "source": [
    "Hint: Type `Boston` to find out more about the dataset."
   ]
  },
  {
   "cell_type": "markdown",
   "id": "67889cb8-cd67-4fe1-8f21-1ceaf4f4f3fe",
   "metadata": {},
   "source": [
    "## Simple Linear Regression\n",
    "\n",
    "In this section we will construct model matrices (also called design matrices) using the `ModelSpec()` transform from `ISLP.models`. \n",
    "\n",
    "We will use the `Boston` housing data set, which is part of the `ISLP` package. We will build a regression model to predict `medv` using 13 predictors such as `rmvar` (average number of rooms per house), `age` (proportion of owner-occupied units built prior to 1940), and `lstat` (percent of households with low socioeconomic status). We will use the `statsmodels` package, which allows us to implement several commonly used regression methods."
   ]
  },
  {
   "cell_type": "markdown",
   "id": "b37d54ee-4416-46d5-b361-99da9fa6612a",
   "metadata": {},
   "source": [
    "To start, we use the `sm.OLS()` function to fit a simple linear regression model. Our response will be `medv` (Y) and `rm` (X) will be the single predictor. For this model, we can create the model matrix by hand."
   ]
  },
  {
   "cell_type": "code",
   "execution_count": null,
   "id": "73e72302-4ca5-4017-8813-69acb3de6035",
   "metadata": {},
   "outputs": [],
   "source": [
    "# Create the model matrix by hand\n",
    "X = pd.DataFrame({'intercept': np.ones(Boston.shape[0]),\n",
    "                  'rm': Boston['rm']})\n",
    "X[:4]"
   ]
  },
  {
   "cell_type": "markdown",
   "id": "39515e24-986c-4a76-b403-8f25fe1c3a7b",
   "metadata": {},
   "source": [
    "We then extract the response and fit the model."
   ]
  },
  {
   "cell_type": "code",
   "execution_count": null,
   "id": "b6367fab-d909-46d0-9730-6239d97840c3",
   "metadata": {},
   "outputs": [],
   "source": [
    "# Extract the response and fit the model\n",
    "y = Boston['medv']\n",
    "model = sm.OLS(y, X) # to specify the model\n",
    "results = model.fit() # to fit the model"
   ]
  },
  {
   "cell_type": "markdown",
   "id": "67e581a4-b9f2-4e59-946d-dbc057e9d05c",
   "metadata": {},
   "source": [
    "**Note**: `sm.OLS()` does not fit the model; it specifies the model. `model.fit()` does the actual fitting.\n",
    "\n",
    "The `ISLP` function `summarize()` produces a simple table of the parameter estimates, their standard errors, t-statistics and p-values. The function takes a single argument, such as the object `results` returned here by the `fit` method, and returns such a summary."
   ]
  },
  {
   "cell_type": "code",
   "execution_count": null,
   "id": "dc9f10a8",
   "metadata": {},
   "outputs": [],
   "source": [
    "# Summarize results\n",
    "summarize(results)"
   ]
  },
  {
   "cell_type": "markdown",
   "id": "9e5ec5b5-5aa1-4fa9-99d0-98e4d145add3",
   "metadata": {},
   "source": [
    "The output tells us that ˆβ0 = −34.6706 and ˆβ1 = 9.1021"
   ]
  },
  {
   "cell_type": "code",
   "execution_count": null,
   "id": "3c0b78bb-411d-4a86-a7da-917b77405f2e",
   "metadata": {},
   "outputs": [],
   "source": [
    "results.summary()"
   ]
  },
  {
   "cell_type": "markdown",
   "id": "d1507eef-dc02-4c1c-853b-fa0c0dd9323c",
   "metadata": {},
   "source": [
    "The fitted coefficients can also be retrieved as the params attribute of results."
   ]
  },
  {
   "cell_type": "code",
   "execution_count": null,
   "id": "1fe415fa-70b6-4b6a-8487-2c7b0031d920",
   "metadata": {},
   "outputs": [],
   "source": [
    "coefficients = results.params\n",
    "print(coefficients)"
   ]
  },
  {
   "cell_type": "markdown",
   "id": "fd030bc3-27e3-44e3-8cd4-73d4e098a00d",
   "metadata": {},
   "source": [
    "To compute the 95% confidence intervals for the regression coefficient estimates based on the standard errors:"
   ]
  },
  {
   "cell_type": "code",
   "execution_count": null,
   "id": "d669c318-3289-4aed-9a6d-155c30aacaa7",
   "metadata": {},
   "outputs": [],
   "source": [
    "# Get confidence intervals for coefficients\n",
    "conf_intervals = results.conf_int()\n",
    "\n",
    "# Print the confidence intervals\n",
    "print(\"Confidence Intervals for Coefficients:\")\n",
    "print(conf_intervals)"
   ]
  },
  {
   "cell_type": "markdown",
   "id": "91c46f11-e605-4c92-abfd-aa09f2cac23f",
   "metadata": {},
   "source": [
    "We can also find the RSE and $R^2$ statistic in the summary of the linear regression model."
   ]
  },
  {
   "cell_type": "code",
   "execution_count": null,
   "id": "a581edce-ad34-4040-ad21-bd1021832c0d",
   "metadata": {},
   "outputs": [],
   "source": [
    "print(results.summary())"
   ]
  },
  {
   "cell_type": "markdown",
   "id": "d9c4036d-5810-4692-bc58-626ea7f7c08f",
   "metadata": {},
   "source": [
    "From the $R^2$ statistic we can see that some of the variation in `medv` is explained by `rm` but a lot of it is not. This might be an indication that there are other variables in the data set that are affecting the response."
   ]
  },
  {
   "cell_type": "code",
   "execution_count": null,
   "id": "6d363338-6e3c-4824-89b0-219f507506eb",
   "metadata": {},
   "outputs": [],
   "source": [
    "# Extracting 'medv' and 'rm' columns from the dataset\n",
    "medv = Boston['medv']\n",
    "rm = Boston['rm']\n",
    "\n",
    "# Reshape 'rm' to a 2D array for LinearRegression\n",
    "rm_reshaped = rm.values.reshape(-1, 1)\n",
    "\n",
    "# Fit a linear regression model\n",
    "lm_medv_rm = LinearRegression()\n",
    "lm_medv_rm.fit(rm_reshaped, medv)\n",
    "\n",
    "# Plot 'medv' against 'rm'\n",
    "plt.scatter(rm, medv, label='Data')\n",
    "plt.xlabel('rm')\n",
    "plt.ylabel('medv')\n",
    "\n",
    "# Plot the regression line\n",
    "plt.plot(rm, lm_medv_rm.predict(rm_reshaped), color='red', linewidth=2, label='Regression Line')\n",
    "\n",
    "plt.legend()\n",
    "plt.show()"
   ]
  },
  {
   "cell_type": "markdown",
   "id": "956cec7e-13fa-46d8-b2e6-30f9b4d9892b",
   "metadata": {},
   "source": [
    "### Multiple Linear Regression\n",
    "\n",
    "To fit a multiple linear regression model using least squares, we again use the `ModelSpec()` transform to construct the required model matrix and response. The arguments to `ModelSpec()` can be quite general, but in this case a list of column names is fine. We consider a fit here with the two variables `rm` and `nox`."
   ]
  },
  {
   "cell_type": "code",
   "execution_count": null,
   "id": "ac5d05be-2862-49c7-a70d-a73feacd919e",
   "metadata": {},
   "outputs": [],
   "source": [
    "X = MS(['rm', 'nox']).fit_transform(Boston)\n",
    "model1 = sm.OLS(y, X)\n",
    "results1 = model1.fit()\n",
    "summarize(results1)"
   ]
  },
  {
   "cell_type": "markdown",
   "id": "16cd9729-16a7-4f87-a9eb-950cd59db298",
   "metadata": {},
   "source": [
    "Notice how we have compacted the first line into a succinct expression describing the construction of `X`.\n",
    "\n",
    "The `Boston` data set contains 12 variables, and so it would be cumbersome to have to type all of these in order to perform a regression using all of the predictors. Instead, we can use the following short-hand:"
   ]
  },
  {
   "cell_type": "code",
   "execution_count": null,
   "id": "fa09b615-4430-4a10-8a67-fcc2bd64d866",
   "metadata": {},
   "outputs": [],
   "source": [
    "terms = Boston.columns.drop('medv')\n",
    "terms"
   ]
  },
  {
   "cell_type": "markdown",
   "id": "826022a2-15da-4353-9b0f-42d7db79ecad",
   "metadata": {},
   "source": [
    "We can now fit the model with all the variables in `terms` using the same model matrix builder."
   ]
  },
  {
   "cell_type": "code",
   "execution_count": null,
   "id": "683522e3-85a5-48e4-a279-5681c9cd444e",
   "metadata": {},
   "outputs": [],
   "source": [
    "X = MS(terms).fit_transform(Boston)\n",
    "model = sm.OLS(y, X)\n",
    "results = model.fit()\n",
    "summarize(results)"
   ]
  },
  {
   "cell_type": "markdown",
   "id": "192691a3-bc1c-4208-8ed9-252704ba0fcb",
   "metadata": {},
   "source": [
    "What if we would like to perform a regression using all of the variables but one? For example, in the above regression output, `age` has a high $p$`-value`. So we may wish to run a regression excluding this predictor. The following syntax results in a regression using all predictors except `age`."
   ]
  },
  {
   "cell_type": "code",
   "execution_count": null,
   "id": "0658a85e-b5d2-4b54-a2af-b69019a6176a",
   "metadata": {},
   "outputs": [],
   "source": [
    "minus_age = Boston.columns.drop(['medv', 'age']) \n",
    "Xma = MS(minus_age).fit_transform(Boston)\n",
    "model1 = sm.OLS(y, Xma)\n",
    "summarize(model1.fit())"
   ]
  },
  {
   "cell_type": "markdown",
   "id": "e9f40afd-d823-428b-8a61-957023560684",
   "metadata": {},
   "source": [
    "### Qualitative Predictors\n",
    "\n",
    "Here we use the `Boston` data again. \n",
    "\n",
    "We can examine the relationship between `medv` and `chas`, where\n",
    "\\begin{align*}\n",
    "\\text{chas} = \\left\\{\\begin{array}{ll}\n",
    "1 & \\text { if } \\text{tract bounds Charles River} \\\\\n",
    "0 & \\text { if } \\text{not}\n",
    "\\end{array}\\right. \n",
    "\\end{align*}"
   ]
  },
  {
   "cell_type": "code",
   "execution_count": null,
   "id": "8a6e12a4-d254-4984-b19b-23ad3691676d",
   "metadata": {},
   "outputs": [],
   "source": [
    "# Perform regression\n",
    "model = sm.OLS.from_formula('medv ~ chas', data=Boston)\n",
    "result = model.fit()\n",
    "\n",
    "# Print the summary of the regression\n",
    "print(result.summary())"
   ]
  },
  {
   "cell_type": "markdown",
   "id": "c629a7b9-2577-47ea-96bb-e96b11783189",
   "metadata": {},
   "source": [
    "$\\hat \\beta_0 = 22.094$: the average median house value for suburbs that are not bound by the Charles river.\n",
    "\n",
    "$\\hat \\beta_1 = 6.346$: the difference in the average median house value for suburbs that are bound by the Charles River versus those that are not."
   ]
  },
  {
   "cell_type": "markdown",
   "id": "3efd4b11-081a-493e-8cba-8f81a747da82",
   "metadata": {},
   "source": [
    "### Interaction Term\n",
    "\n",
    "Let's look at the relationship between the response `medv` and the predictors `lstat` (the percent of households with low socioeconomic status) and `age` (the percent of homes built prior to 1940). We can also include the interaction term between `lstat` and `age`.\n",
    "\n",
    "The syntax used to implement this is `lm(y ~ x1 + x2 + x1:x2, data)` or `lm(y ~ x1 * x2, data)` for shorthand."
   ]
  },
  {
   "cell_type": "code",
   "execution_count": null,
   "id": "7f916189-f92a-497a-aaad-3dc99b92db0c",
   "metadata": {},
   "outputs": [],
   "source": [
    "model = sm.OLS.from_formula('medv ~ lstat * age', data=Boston)\n",
    "result = model.fit()\n",
    "\n",
    "# Print the summary of the regression\n",
    "print(result.summary())"
   ]
  },
  {
   "cell_type": "markdown",
   "id": "f82a3d81-e48b-4150-a3a6-4c99112ddbf5",
   "metadata": {},
   "source": [
    "The interaction term has a $p$-value of $0.025$. Even though the $p$-value for `age` is not significant, we will still include it in our model due to the hierarchical principal."
   ]
  },
  {
   "cell_type": "markdown",
   "id": "baa1b220-c35d-4b39-a3ee-729f634f22d6",
   "metadata": {},
   "source": [
    "### Helpful plots\n",
    "\n",
    "There are a few plots that we discussed that can help to identify problems with our data or with our fit."
   ]
  },
  {
   "cell_type": "code",
   "execution_count": null,
   "id": "fb7478a4-ca8d-4000-b64f-5773f9e3065e",
   "metadata": {},
   "outputs": [],
   "source": [
    "model = sm.OLS.from_formula('medv ~ rm', data=Boston)\n",
    "result = model.fit()\n",
    "\n",
    "# Plot the specified diagnostic plots\n",
    "fig, ax = plt.subplots(1, 2, figsize=(12, 5))\n",
    "\n",
    "# Residuals vs. Fitted Values Plot\n",
    "sm.graphics.plot_regress_exog(result, 'rm', fig=fig)\n",
    "\n",
    "# Studentized Residuals vs. Fitted Values Plot\n",
    "ax[1].scatter(result.fittedvalues, result.get_influence().resid_studentized_internal, alpha=0.8)\n",
    "ax[1].set_xlabel('Fitted Values')\n",
    "ax[1].set_ylabel('Studentized Residuals')\n",
    "\n",
    "plt.show()"
   ]
  },
  {
   "cell_type": "code",
   "execution_count": null,
   "id": "870e76cc-fe41-4e07-87eb-784a9fbcd8c1",
   "metadata": {},
   "outputs": [],
   "source": [
    "# Fit a linear regression model\n",
    "model = sm.OLS.from_formula('medv ~ rm', data=Boston)\n",
    "result = model.fit()\n",
    "\n",
    "# Get the predicted values and studentized residuals\n",
    "predicted_values = result.predict()\n",
    "studentized_residuals = result.get_influence().resid_studentized_internal\n",
    "\n",
    "# Plot the Studentized Residuals vs. Fitted Values\n",
    "plt.scatter(predicted_values, studentized_residuals, alpha=0.8)\n",
    "plt.xlabel('Fitted Values')\n",
    "plt.ylabel('Studentized Residuals')\n",
    "plt.title('Studentized Residuals vs. Fitted Values')\n",
    "plt.show()"
   ]
  },
  {
   "cell_type": "markdown",
   "id": "9d6fa813-dca6-4e5a-a110-a34f6d8ccfc8",
   "metadata": {},
   "source": [
    "***What information about our fitted model can you gather from these plots? Are there any outliers or high leverage points?***\n",
    "\n",
    "***Fit a linear regression model on the `Boston` data set including all the predictors. The shorthand for this is `lm(medv ~ .)`. Interpret the summary including the hypothesis tests for the coefficients and the RSE and $R^2 values. Make plots of the fit including confidence intervals for the fitted line. Recreate and interpret the three plots we have just made using your new fit.***\n",
    "\n",
    "Ask for help if you get stuck!\n"
   ]
  },
  {
   "cell_type": "markdown",
   "id": "7bc2a43a-24bd-44bd-b141-a82cb76e1a3f",
   "metadata": {},
   "source": [
    "*These exercises were adapted from :* James, Gareth, et al. An Introduction to Statistical Learning: with Applications in Python, Springer, 2023."
   ]
  }
 ],
 "metadata": {
  "kernelspec": {
   "display_name": "Python 3.10.4",
   "language": "python",
   "name": "python3"
  },
  "language_info": {
   "codemirror_mode": {
    "name": "ipython",
    "version": 3
   },
   "file_extension": ".py",
   "mimetype": "text/x-python",
   "name": "python",
   "nbconvert_exporter": "python",
   "pygments_lexer": "ipython3",
   "version": "3.11.5"
  },
  "vscode": {
   "interpreter": {
    "hash": "497a84dc8fec8cf8d24e7e87b6d954c9a18a327edc66feb9b9ea7e9e72cc5c7e"
   }
  }
 },
 "nbformat": 4,
 "nbformat_minor": 5
}

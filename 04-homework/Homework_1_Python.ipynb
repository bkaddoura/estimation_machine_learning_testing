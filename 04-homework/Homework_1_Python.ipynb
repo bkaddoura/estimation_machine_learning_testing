{
 "cells": [
  {
   "attachments": {},
   "cell_type": "markdown",
   "id": "dde65af3-543e-49db-9cdd-23c58593e30c",
   "metadata": {},
   "source": [
    "## DSI-06 Homework 1: ANSWERS\n",
    "From Chapter 3, found on page 129 of ISLP\n",
    "\n",
    "*This question involves the use of simple linear regression on the Auto data set*"
   ]
  },
  {
   "cell_type": "code",
   "execution_count": null,
   "id": "acb70b75-4f4d-4081-86f3-7c48600e1023",
   "metadata": {},
   "outputs": [],
   "source": [
    "# Import standard libraries\n",
    "import numpy as np\n",
    "import pandas as pd\n",
    "from matplotlib.pyplot import subplots\n",
    "import statsmodels.api as sm\n",
    "\n",
    "# Import specific objects\n",
    "from textwrap import wrap # to avoiding label overlapping in plots\n",
    "from ISLP import load_data\n",
    "from ISLP.models import (ModelSpec as MS,\n",
    "                         summarize,\n",
    "                         poly)\n",
    "\n",
    "# Load dataset\n",
    "Auto = load_data('Auto')\n",
    "Auto"
   ]
  },
  {
   "cell_type": "markdown",
   "id": "68acc068-630e-42e4-bcf6-e388732c67f2",
   "metadata": {},
   "source": [
    "_a)_\tUse the `sm.OLS()` function to perform a simple linear regression with `mpg` as the response and `horsepower` as the predictor. Use the `model.summary()` function to print the results. Comment on the output\n",
    "\n",
    "(i) Is there a relationship between the predictor and the response?\n",
    "\n",
    "(ii) How strong is the relationship between the predictor and the response?\n",
    "\n",
    "(iii) Is the relationship between the predictor and the response positive or negative?\n",
    "\n",
    "(iv) What is the predicted mpg associated with a horsepower of 98? What are the associated 95 % confidence and prediction intervals?"
   ]
  },
  {
   "cell_type": "code",
   "execution_count": null,
   "id": "00f4fd86",
   "metadata": {},
   "outputs": [],
   "source": [
    "#Add your code here"
   ]
  },
  {
   "cell_type": "markdown",
   "id": "fb8e20e6-d15b-4c34-9cbe-650d582df4ab",
   "metadata": {},
   "source": [
    "_b)_\tPlot the response and the predictor in a new set of axes `ax` using `scatter`. Use the `ax.plot()` function with the predictor and the model prediction as defined in the lab to display the least squares regression line."
   ]
  },
  {
   "cell_type": "code",
   "execution_count": null,
   "id": "d4614698",
   "metadata": {},
   "outputs": [],
   "source": [
    "#Add your code here"
   ]
  },
  {
   "attachments": {},
   "cell_type": "markdown",
   "id": "f4acb0fa-4fbb-4164-a81d-2f3d20237e7f",
   "metadata": {},
   "source": [
    "_c)_\tProduce some of diagnostic plots of the least squares regression fit as described in the lab. Comment on any problems you see with the fit."
   ]
  },
  {
   "cell_type": "code",
   "execution_count": null,
   "id": "b8b20459-e8e8-43ca-b5d6-88202a008cb3",
   "metadata": {},
   "outputs": [],
   "source": [
    "#Add your code here\n",
    "#Plot at least the Scale-Location Plot, the QQ Plot and the Residuals vs Fitted Values Plot"
   ]
  },
  {
   "cell_type": "markdown",
   "id": "7d6e87a8",
   "metadata": {},
   "source": [
    "Additional Practice Questions: \n",
    "- How would you describe this exercise in an interview to both a technical and non-technical interviewer? \n",
    "- What are the key insights you would want to show? \n",
    "- Can you think of a business context where this exercise would have applications?"
   ]
  }
 ],
 "metadata": {
  "kernelspec": {
   "display_name": "Python 3 (ipykernel)",
   "language": "python",
   "name": "python3"
  },
  "language_info": {
   "codemirror_mode": {
    "name": "ipython",
    "version": 3
   },
   "file_extension": ".py",
   "mimetype": "text/x-python",
   "name": "python",
   "nbconvert_exporter": "python",
   "pygments_lexer": "ipython3",
   "version": "3.11.5"
  }
 },
 "nbformat": 4,
 "nbformat_minor": 5
}

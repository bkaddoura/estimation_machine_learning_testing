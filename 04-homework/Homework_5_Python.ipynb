{
 "cells": [
  {
   "attachments": {},
   "cell_type": "markdown",
   "id": "2ba01987-3a6c-4eb2-bb44-57508658e378",
   "metadata": {},
   "source": [
    "## DSI-06 Homework 5: ANSWERS\n",
    "From Chapter 6, found on pages 286-287 of ISLP\n",
    "\n",
    "*In this exercise, we will predict the number of applications received using the other variables in the `College` data set.*"
   ]
  },
  {
   "cell_type": "code",
   "execution_count": null,
   "id": "c43c760f-5332-47a2-956f-a9a9f12301ad",
   "metadata": {},
   "outputs": [],
   "source": [
    "# Import libraries and objects\n",
    "import numpy as np\n",
    "import pandas as pd\n",
    "import seaborn as sns\n",
    "import matplotlib.pyplot as plt\n",
    "from matplotlib.pyplot import subplots\n",
    "import statsmodels.api as sm\n",
    "import random\n",
    "import patsy\n",
    "from ISLP import load_data\n",
    "from ISLP import confusion_table\n",
    "from ISLP.models import contrast\n",
    "from ISLP.models import (ModelSpec as MS,\n",
    "                         summarize)\n",
    "from sklearn.preprocessing import StandardScaler\n",
    "from sklearn.model_selection import train_test_split\n",
    "from sklearn.linear_model import LogisticRegression\n",
    "from sklearn.linear_model import LinearRegression\n",
    "from sklearn.linear_model import RidgeCV, LassoCV\n",
    "from sklearn.metrics import accuracy_score, confusion_matrix\n",
    "from sklearn.metrics import mean_squared_error\n",
    "from sklearn.linear_model import ElasticNetCV\n",
    "from sklearn.preprocessing import OneHotEncoder\n",
    "from sklearn.compose import ColumnTransformer\n",
    "from sklearn.pipeline import Pipeline\n",
    "from sklearn.preprocessing import StandardScaler\n",
    "from patsy import dmatrix\n",
    "\n",
    "# Load Default data\n",
    "College = load_data('College')\n",
    "College"
   ]
  },
  {
   "cell_type": "markdown",
   "id": "20e00c87-528a-44bf-a230-78df3633fa04",
   "metadata": {},
   "source": [
    "(a)  Split the data set into a training set and a test set.\n",
    "\n",
    "*We can use the function train_test_split() to split the observations into two halves for the training and testing sets. If so, fix the random seed*"
   ]
  },
  {
   "cell_type": "code",
   "execution_count": null,
   "id": "3694c2eb-9930-4a1d-be3a-267553903cfd",
   "metadata": {},
   "outputs": [],
   "source": [
    "# Add your code here"
   ]
  },
  {
   "cell_type": "markdown",
   "id": "3867cf5e-6abe-434c-83f8-cb7f31291c61",
   "metadata": {},
   "source": [
    "(b) Fit a linear model using least squares on the training set, and report the test error obtained."
   ]
  },
  {
   "cell_type": "code",
   "execution_count": null,
   "id": "605d7213-bfd1-4e7c-8b21-4afc067db5de",
   "metadata": {},
   "outputs": [],
   "source": [
    "# Add your code here"
   ]
  },
  {
   "cell_type": "markdown",
   "id": "88a9e4fb-4bb9-4ba7-aa03-7cec2132c463",
   "metadata": {},
   "source": [
    "(c)  Fit a lasso model on the training set, with λ chosen by cross validation. Report the test error obtained, along with the number of non-zero coefficient estimates."
   ]
  },
  {
   "cell_type": "code",
   "execution_count": null,
   "id": "c3398f82-e500-4822-892e-7b1979e1148b",
   "metadata": {},
   "outputs": [],
   "source": [
    "# Add your code here"
   ]
  },
  {
   "cell_type": "markdown",
   "id": "6f5996e6-7556-4ca2-8226-849270fe9ca3",
   "metadata": {},
   "source": [
    "(d) Fit a lasso model on the training set, with λ chosen by cross validation. Report the test error obtained, along with the number of non-zero coefficient estimates."
   ]
  },
  {
   "cell_type": "code",
   "execution_count": null,
   "id": "813d3cb1-bd9f-4750-9bd0-372c6d7a56f2",
   "metadata": {},
   "outputs": [],
   "source": [
    "# Add your code here"
   ]
  },
  {
   "cell_type": "markdown",
   "id": "0f5cd83f",
   "metadata": {},
   "source": [
    "- Explain the importance of a training and test set to a non-technical audience. \n",
    "- How would you describe this exercise in an interview to both a technical and non-technical interviewer? \n",
    "- What are the key insights you would want to show? \n",
    "- Can you think of a business context where this exercise would have applications?"
   ]
  }
 ],
 "metadata": {
  "kernelspec": {
   "display_name": "Python 3 (ipykernel)",
   "language": "python",
   "name": "python3"
  },
  "language_info": {
   "codemirror_mode": {
    "name": "ipython",
    "version": 3
   },
   "file_extension": ".py",
   "mimetype": "text/x-python",
   "name": "python",
   "nbconvert_exporter": "python",
   "pygments_lexer": "ipython3",
   "version": "3.11.5"
  }
 },
 "nbformat": 4,
 "nbformat_minor": 5
}
